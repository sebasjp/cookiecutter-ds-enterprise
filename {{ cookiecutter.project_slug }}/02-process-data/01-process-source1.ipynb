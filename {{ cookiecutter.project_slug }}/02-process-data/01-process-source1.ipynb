{
 "cells": [
  {
   "cell_type": "markdown",
   "metadata": {},
   "source": [
    "# Process source1\n",
    "\n",
    "Most cases we have many sources to process in order to create all features in our master data table. This section `02-process-data` aims to storage all those process."
   ]
  },
  {
   "cell_type": "markdown",
   "metadata": {},
   "source": []
  }
 ],
 "metadata": {
  "language_info": {
   "name": "python"
  },
  "orig_nbformat": 4
 },
 "nbformat": 4,
 "nbformat_minor": 2
}
