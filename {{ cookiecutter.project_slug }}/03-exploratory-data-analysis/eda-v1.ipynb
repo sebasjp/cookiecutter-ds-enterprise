{
 "cells": [
  {
   "cell_type": "markdown",
   "metadata": {},
   "source": [
    "# Master Data Table (MDT) EDA\n",
    "\n",
    "Once we have our MDT the idea is that we can start the EDA stage. This will be developed in this folder: `03-exploratory-data-analysis`.\n",
    "\n",
    "Here you can check missing values, outliers, encoding features, etc."
   ]
  },
  {
   "cell_type": "markdown",
   "metadata": {},
   "source": []
  }
 ],
 "metadata": {
  "language_info": {
   "name": "python"
  },
  "orig_nbformat": 4
 },
 "nbformat": 4,
 "nbformat_minor": 2
}
