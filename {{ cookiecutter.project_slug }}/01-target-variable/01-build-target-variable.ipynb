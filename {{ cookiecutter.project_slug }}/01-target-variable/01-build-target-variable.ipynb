{
 "cells": [
  {
   "cell_type": "markdown",
   "metadata": {},
   "source": [
    "# Target variable\n",
    "\n",
    "Most of cases we need to do some analysis in order to build the target variable for our model (in supervised learning). This section `01-target-variable` aims both to recopile all those analysis and the final analysis about how the target variable finally was designed."
   ]
  },
  {
   "cell_type": "markdown",
   "metadata": {},
   "source": []
  }
 ],
 "metadata": {
  "language_info": {
   "name": "python"
  },
  "orig_nbformat": 4
 },
 "nbformat": 4,
 "nbformat_minor": 2
}
